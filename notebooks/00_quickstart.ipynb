{
 "cells": [
  {
   "cell_type": "markdown",
   "metadata": {},
   "source": [
    "# OceanMesh Tools Quickstart\n\n",
    "This demo shows the minimal workflow. Data are referenced in place from a local OceanMesh2D checkout; no files are copied."
   ]
  },
  {
   "cell_type": "markdown",
   "metadata": {},
   "source": [
    "## Local Data Model\n\n",
    "- OceanMesh2D root: `$HOME/Github/OceanMesh2D/`\n",
    "- Region: e.g., `Tokyo_Bay/`\n",
    "- Region data: `$HOME/Github/OceanMesh2D/Tokyo_Bay/data/`\n",
    "- Shared datasets: `$HOME/Github/OceanMesh2D/datasets/`\n\n",
    "Optional `.oceanmesh-tools.yaml` in this repo or `$HOME`:\n\n",
    "```yaml\n",
    "oceanmesh2d_dir: \"/home/you/Github/OceanMesh2D\"\n",
    "default_region: \"Tokyo_Bay\"\n",
    "search_paths:\n",
    "  dem:\n",
    "    - \"/home/you/Github/OceanMesh2D/Tokyo_Bay/data\"\n",
    "  shp:\n",
    "    - \"/home/you/Github/OceanMesh2D/Tokyo_Bay/data\"\n",
    "```"
   ]
  },
  {
   "cell_type": "code",
   "execution_count": null,
   "metadata": {},
   "outputs": [],
   "source": [
    "# Show CLI help\n",
    "import subprocess, sys\n",
    "subprocess.run([sys.executable, '-m', 'pip', 'show', 'oceanmesh-tools'])\n",
    "subprocess.run(['omt', '--help'])"
   ]
  },
  {
   "cell_type": "markdown",
   "metadata": {},
   "source": [
    "## Two-step flow: scan → viz\n\n",
    "Replace `/home/you` with your actual home path."
   ]
  },
  {
   "cell_type": "code",
   "execution_count": null,
   "metadata": {},
   "outputs": [],
   "source": [
    "# 1) Scan MATLAB scripts for Tokyo Bay and build a catalog\n",
    "!omt scan --oceanmesh2d-dir $HOME/Github/OceanMesh2D --region Tokyo_Bay --out catalog.json"
   ]
  },
  {
   "cell_type": "code",
   "execution_count": null,
   "metadata": {},
   "outputs": [],
   "source": [
    "# 2) Visualize a specific mesh (substitute NAME.14 with your file)\n",
    "!omt viz --fort14 $HOME/Github/OceanMesh2D/Tokyo_Bay/meshes/NAME.14 --catalog catalog.json --out figs/NAME"
   ]
  }
 ],
 "metadata": {
  "kernelspec": {
   "display_name": "Python 3",
   "language": "python",
   "name": "python3"
  },
  "language_info": {
   "name": "python",
   "version": "3.12"
  }
 },
 "nbformat": 4,
 "nbformat_minor": 5
}

